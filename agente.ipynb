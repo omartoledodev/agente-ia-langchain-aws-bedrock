{
 "cells": [
  {
   "cell_type": "markdown",
   "metadata": {},
   "source": [
    "Construyendo tu Agente de IA: Integrando LangChain y Amazon Bedrock para consultas de datos privados"
   ]
  },
  {
   "cell_type": "markdown",
   "metadata": {},
   "source": [
    "Librerias necesarias"
   ]
  },
  {
   "cell_type": "code",
   "execution_count": null,
   "metadata": {},
   "outputs": [],
   "source": [
    "!pip install langchain_community langchain_core langchain pypdf boto3 langchain_aws"
   ]
  },
  {
   "cell_type": "markdown",
   "metadata": {},
   "source": [
    "Credenciales para usar AWS Bedrock"
   ]
  },
  {
   "cell_type": "code",
   "execution_count": null,
   "metadata": {},
   "outputs": [],
   "source": [
    "import getpass\n",
    "import os\n",
    "os.environ[\"AWS_ACCESS_KEY_ID\"] = getpass.getpass(\"Enter your AWS_ACCESS_KEY_ID: \")\n",
    "os.environ[\"AWS_SECRET_ACCESS_KEY\"] = getpass.getpass(\"Enter your AWS_SECRET_ACCESS_KEY: \")\n",
    "os.environ[\"AWS_DEFAULT_REGION\"] = getpass.getpass(\"Enter your AWS_DEFAULT_REGION: \")"
   ]
  },
  {
   "cell_type": "code",
   "execution_count": null,
   "metadata": {},
   "outputs": [],
   "source": [
    "import boto3\n",
    "\n",
    "\"\"\"\n",
    "Configura la sesión de AWS\n",
    "\"\"\"\n",
    "aws_access_key = os.environ.get(\"AWS_ACCESS_KEY_ID\")\n",
    "aws_secret_key = os.environ.get(\"AWS_SECRET_ACCESS_KEY\")\n",
    "region = os.environ.get(\"AWS_DEFAULT_REGION\")\n",
    "\n",
    "session = boto3.Session(\n",
    "    aws_access_key_id=aws_access_key,\n",
    "    aws_secret_access_key=aws_secret_key,\n",
    "    region_name=region\n",
    ")"
   ]
  },
  {
   "cell_type": "markdown",
   "metadata": {},
   "source": [
    "Cargar documento PDF"
   ]
  },
  {
   "cell_type": "code",
   "execution_count": null,
   "metadata": {},
   "outputs": [],
   "source": [
    "from langchain.document_loaders import PyPDFLoader\n",
    "\n",
    "loader = PyPDFLoader(\"documento.pdf\")\n",
    "docs = loader.load()"
   ]
  },
  {
   "cell_type": "code",
   "execution_count": null,
   "metadata": {},
   "outputs": [],
   "source": [
    "Text Splitters"
   ]
  },
  {
   "cell_type": "code",
   "execution_count": null,
   "metadata": {},
   "outputs": [],
   "source": [
    "from langchain_text_splitters import RecursiveCharacterTextSplitter\n",
    "\n",
    "text_splitter = RecursiveCharacterTextSplitter(\n",
    "    chunk_size=1000,\n",
    "    chunk_overlap=100\n",
    ")\n",
    "\n",
    "documents = text_splitter.split_documents(docs)"
   ]
  },
  {
   "cell_type": "code",
   "execution_count": null,
   "metadata": {},
   "outputs": [],
   "source": [
    "Crear modelo de embedding"
   ]
  },
  {
   "cell_type": "code",
   "execution_count": null,
   "metadata": {},
   "outputs": [],
   "source": [
    "from langchain.embeddings import BedrockEmbeddings\n",
    "\n",
    "\"\"\"Crea una instancia del modelo de embeddings de Bedrock\"\"\"\n",
    "bedrock_client = boto3.client(\n",
    "    service_name='bedrock-runtime',\n",
    "    region_name=os.environ['AWS_DEFAULT_REGION']\n",
    ")\n",
    "\n",
    "# Crear el modelo de embeddings usando el modelo Titan de Amazon\n",
    "embeddings = BedrockEmbeddings(\n",
    "    client=bedrock_client,\n",
    "    model_id=\"amazon.titan-embed-text-v1\"  # Modelo de embeddings de Amazon\n",
    ")"
   ]
  },
  {
   "cell_type": "markdown",
   "metadata": {},
   "source": [
    "Base de datos vectorial"
   ]
  },
  {
   "cell_type": "code",
   "execution_count": null,
   "metadata": {},
   "outputs": [],
   "source": [
    "from langchain.vectorstores import Chroma\n",
    "\n",
    "\"\"\"Crea un almacén vectorial Chroma usando embeddings de Bedrock\"\"\"\n",
    "# Obtener el modelo de embeddings\n",
    "embedding_model = embeddings\n",
    "\n",
    "NOMBRE_INDICE_CHROMA = \"embeddings-documents\"\n",
    "\n",
    "# Crear el almacén vectorial\n",
    "vectorstore_chroma = Chroma.from_documents(\n",
    "    documents=documents,\n",
    "    embedding=embedding_model,\n",
    "    persist_directory=NOMBRE_INDICE_CHROMA\n",
    ")\n",
    "\n",
    "#Hacer que nuestra vectorstore persista en nuestro disco\n",
    "vectorstore_chroma.persist()\n",
    "\n",
    "vectorstore = Chroma(\n",
    "    persist_directory=NOMBRE_INDICE_CHROMA,\n",
    "    embedding_function=embedding_model\n",
    ")"
   ]
  },
  {
   "cell_type": "markdown",
   "metadata": {},
   "source": [
    "Retriever"
   ]
  },
  {
   "cell_type": "code",
   "execution_count": null,
   "metadata": {},
   "outputs": [],
   "source": [
    "retriever = vectorstore.as_retriever(\n",
    "    search_type=\"similarity\",\n",
    "    search_kwargs={\"k\": 2}\n",
    ")"
   ]
  },
  {
   "cell_type": "code",
   "execution_count": null,
   "metadata": {},
   "outputs": [],
   "source": [
    "query = \"consulta\"\n",
    "\n",
    "retriever.invoke(query)"
   ]
  },
  {
   "cell_type": "markdown",
   "metadata": {},
   "source": [
    "Convertir al retriever a herramienta"
   ]
  },
  {
   "cell_type": "code",
   "execution_count": null,
   "metadata": {},
   "outputs": [],
   "source": [
    "from langchain.tools.retriever import create_retriever_tool\n",
    "\n",
    "txt = '''\n",
    "  Utiliza esta herramienta para buscar información reacionada\n",
    "  con las preguntas que haga el usuario\n",
    "'''\n",
    "retriever_tool = create_retriever_tool(\n",
    "    retriever,\n",
    "    \"RetrieverTool\",\n",
    "    txt\n",
    ")"
   ]
  },
  {
   "cell_type": "markdown",
   "metadata": {},
   "source": [
    "Declaramos las Tools que usara el agente"
   ]
  },
  {
   "cell_type": "code",
   "execution_count": null,
   "metadata": {},
   "outputs": [],
   "source": [
    "tools = [retriever_tool]"
   ]
  },
  {
   "cell_type": "markdown",
   "metadata": {},
   "source": [
    "LLM Bedrock"
   ]
  },
  {
   "cell_type": "code",
   "execution_count": null,
   "metadata": {},
   "outputs": [],
   "source": [
    "import boto3\n",
    "from langchain_aws.llms.bedrock import BedrockLLM\n",
    "\n",
    "llm = BedrockLLM(\n",
    "    client=bedrock_client,\n",
    "    model_id=\"anthropic.claude-instant-v1\",\n",
    "    model_kwargs={\n",
    "        \"max_tokens_to_sample\": 300,\n",
    "        \"temperature\": 0.1,\n",
    "        \"top_p\": 0.9,\n",
    "    }\n",
    ")"
   ]
  },
  {
   "cell_type": "markdown",
   "metadata": {},
   "source": [
    "PromptTemplate"
   ]
  },
  {
   "cell_type": "code",
   "execution_count": null,
   "metadata": {},
   "outputs": [],
   "source": [
    "from langchain.prompts import PromptTemplate\n",
    "\n",
    "# Template para el agente\n",
    "prompt = PromptTemplate.from_template(\"\"\"\n",
    "  Eres un asistente útil con acceso a las siguientes herramientas:\n",
    "\n",
    "  {tools}\n",
    "\n",
    "  Utilice el siguiente formato:\n",
    "\n",
    "  Pregunta: la pregunta de entrada que debes responder\n",
    "  Pensamiento: siempre debes pensar en qué hacer\n",
    "  Acción: la acción a realizar debe ser una de [{tool_names}]\n",
    "  Entrada de acción: la entrada a la acción.\n",
    "  Observación: el resultado de la acción.\n",
    "  ... (este Pensamiento/Acción/Introducción de Acción/Observación puede repetirse N veces)\n",
    "  Pensamiento: ahora sé la respuesta final\n",
    "  Respuesta final: la respuesta final a la pregunta de entrada original\n",
    "\n",
    "  Pregunta:{input}\n",
    "\n",
    "  {agent_scratchpad}\n",
    "  \"\"\")"
   ]
  },
  {
   "cell_type": "markdown",
   "metadata": {},
   "source": [
    "Agente"
   ]
  },
  {
   "cell_type": "code",
   "execution_count": null,
   "metadata": {},
   "outputs": [],
   "source": [
    "from langchain.agents import Tool, AgentExecutor, create_react_agent\n",
    "\n",
    "# Create the React agent\n",
    "agent = create_react_agent(\n",
    "    llm=llm,\n",
    "    tools=tools,\n",
    "    prompt=prompt,\n",
    ")\n",
    "\n",
    "# Crear el ejecutor del agente\n",
    "agent_executor = AgentExecutor(\n",
    "    agent=agent,\n",
    "    tools=tools,\n",
    "    verbose=True,\n",
    "    handle_parsing_errors=True\n",
    ")"
   ]
  },
  {
   "cell_type": "markdown",
   "metadata": {},
   "source": [
    "Ejemplo de uso del agente"
   ]
  },
  {
   "cell_type": "code",
   "execution_count": null,
   "metadata": {},
   "outputs": [],
   "source": [
    "result = agent_executor.invoke({\n",
    "        \"input\": \"Consulta\"\n",
    "})\n",
    "\n",
    "result"
   ]
  }
 ],
 "metadata": {
  "kernelspec": {
   "display_name": "Python 3",
   "language": "python",
   "name": "python3"
  },
  "language_info": {
   "name": "python",
   "version": "3.12.2"
  }
 },
 "nbformat": 4,
 "nbformat_minor": 2
}
